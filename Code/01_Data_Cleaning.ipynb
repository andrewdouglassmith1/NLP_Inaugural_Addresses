{
 "cells": [
  {
   "cell_type": "markdown",
   "id": "marine-representation",
   "metadata": {},
   "source": [
    "## Importing Data and Initial Cleaning"
   ]
  },
  {
   "cell_type": "code",
   "execution_count": 6,
   "id": "minor-investigation",
   "metadata": {},
   "outputs": [],
   "source": [
    "import os\n",
    "import pandas as pd\n",
    "import pickle"
   ]
  },
  {
   "cell_type": "code",
   "execution_count": 7,
   "id": "mediterranean-distributor",
   "metadata": {},
   "outputs": [],
   "source": [
    "# Initialize Dataframe \n",
    "\n",
    "df = pd.DataFrame(columns=['president','address'])"
   ]
  },
  {
   "cell_type": "code",
   "execution_count": 8,
   "id": "developed-hawaii",
   "metadata": {},
   "outputs": [],
   "source": [
    "# Designate Path\n",
    "\n",
    "path = 'C:\\\\Users\\\\Andrew\\\\Documents\\\\Metis\\\\NLP_Inaugural_Addresses\\\\Data\\\\InauguralTexts'"
   ]
  },
  {
   "cell_type": "code",
   "execution_count": 9,
   "id": "necessary-portable",
   "metadata": {},
   "outputs": [],
   "source": [
    "# Read all .txt files and append to a single dataframe\n",
    "\n",
    "for filename in os.listdir(path):\n",
    "    with open(os.path.join(path,filename)) as f:\n",
    "        address = f.read()\n",
    "        current_df = pd.DataFrame({'address': [address],'president':[filename]})\n",
    "        df = df.append(current_df, ignore_index=True)"
   ]
  },
  {
   "cell_type": "code",
   "execution_count": 10,
   "id": "large-radical",
   "metadata": {},
   "outputs": [],
   "source": [
    "# Renaming \"Roosevelt\" to \"FRoosevelt\"\n",
    "\n",
    "for i in range(36,40):\n",
    "    df['president'][i] = df['president'][i].replace(\"Roosevelt\",\"FRoosevelt\")\n",
    "\n",
    "# Renaming \"Roosevelt\" to \"TRoosevelt\"\n",
    "df['president'][29] = df['president'][29].replace(\"Roosevelt\",\"TRoosevelt\")"
   ]
  },
  {
   "cell_type": "code",
   "execution_count": 11,
   "id": "miniature-training",
   "metadata": {},
   "outputs": [],
   "source": [
    "# Renaming \"Adams \"JAdams\"\n",
    "df['president'][2] = df['president'][2].replace(\"Adams\",\"JAdams\")\n",
    "\n",
    "# Renaming \"Adams\" \"JQAdams\"\n",
    "df['president'][9] = df['president'][9].replace(\"Adams\",\"JQAdams\")\n",
    "\n",
    "# Renaming \"Bush\" \"HWBush\"\n",
    "df['president'][50] = df['president'][50].replace(\"Bush\",\"HWBush\")\n",
    "\n",
    "# Renaming \"Bush\" \"HWBush\"\n",
    "df['president'][53] = df['president'][53].replace(\"Bush\",\"GWBush\")\n",
    "df['president'][54] = df['president'][54].replace(\"Bush\",\"GWBush\")\n",
    "\n",
    "# Renaming \"Harrison\"\n",
    "df['president'][13] = df['president'][13].replace(\"Harrison\",\"WHarrison\")\n",
    "df['president'][26] = df['president'][26].replace(\"Harrison\",\"BHarrison\")"
   ]
  },
  {
   "cell_type": "code",
   "execution_count": 12,
   "id": "missing-democrat",
   "metadata": {},
   "outputs": [],
   "source": [
    "# Creating a Column that Represents President Number\n",
    "\n",
    "df['president_number'] = [i.strip(\".\")[0:2] for i in df.president]\n",
    "df = df[['president_number','president','address']]"
   ]
  },
  {
   "cell_type": "code",
   "execution_count": 13,
   "id": "revolutionary-thanksgiving",
   "metadata": {},
   "outputs": [],
   "source": [
    "# Creating a column that is only the presidents name\n",
    "\n",
    "df['pres_name'] = [i.split(\".\")[1] for i in df['president']]\n",
    "\n",
    "# Creat a column that represents term number\n",
    "\n",
    "df['term'] = [i.split(\".\")[2] for i in df['president']]"
   ]
  },
  {
   "cell_type": "code",
   "execution_count": 14,
   "id": "neither-accident",
   "metadata": {},
   "outputs": [],
   "source": [
    "# Create a column that represents predisent name and term number\n",
    "\n",
    "df['pres_det'] = df['term'] + \" \" + df['pres_name']"
   ]
  },
  {
   "cell_type": "code",
   "execution_count": 15,
   "id": "configured-cholesterol",
   "metadata": {},
   "outputs": [],
   "source": [
    "# re-orient columns\n",
    "df = df[['president_number','term','pres_name','pres_det','president','address']]"
   ]
  },
  {
   "cell_type": "code",
   "execution_count": 16,
   "id": "raising-calcium",
   "metadata": {},
   "outputs": [],
   "source": [
    "# Merging Party Information\n",
    "path = r\"C:\\Users\\Andrew\\Documents\\Metis\\NLP_Inaugural_Addresses\\Data\\PresidentInfo\"\n",
    "df_party = pd.read_csv(path+\"\\Pres_Details.csv\")"
   ]
  },
  {
   "cell_type": "code",
   "execution_count": 17,
   "id": "super-criterion",
   "metadata": {},
   "outputs": [],
   "source": [
    "# Convert to int for merge\n",
    "df['president_number'] = df['president_number'].astype(int)\n",
    "\n",
    "# Perform Merge\n",
    "df = df.merge(df_party,left_on=\"president_number\",right_on='S.No.')\n",
    "\n",
    "# Drop Columns\n",
    "df = df.drop(['start','end','president_y','vice','prior','S.No.'],axis=1)"
   ]
  },
  {
   "cell_type": "code",
   "execution_count": 18,
   "id": "freelance-organic",
   "metadata": {},
   "outputs": [],
   "source": [
    "# Merging year of first term\n",
    "path = r\"C:\\Users\\Andrew\\Documents\\Metis\\NLP_Inaugural_Addresses\\Data\\PresidentInfo\"\n",
    "df_dates = pd.read_csv(path+\"\\Inaugural_Dates.csv\")"
   ]
  },
  {
   "cell_type": "code",
   "execution_count": 19,
   "id": "front-thanksgiving",
   "metadata": {},
   "outputs": [
    {
     "data": {
      "text/html": [
       "<div>\n",
       "<style scoped>\n",
       "    .dataframe tbody tr th:only-of-type {\n",
       "        vertical-align: middle;\n",
       "    }\n",
       "\n",
       "    .dataframe tbody tr th {\n",
       "        vertical-align: top;\n",
       "    }\n",
       "\n",
       "    .dataframe thead th {\n",
       "        text-align: right;\n",
       "    }\n",
       "</style>\n",
       "<table border=\"1\" class=\"dataframe\">\n",
       "  <thead>\n",
       "    <tr style=\"text-align: right;\">\n",
       "      <th></th>\n",
       "      <th>president_number</th>\n",
       "      <th>term</th>\n",
       "      <th>pres_name</th>\n",
       "      <th>pres_det</th>\n",
       "      <th>president_x</th>\n",
       "      <th>address</th>\n",
       "      <th>party</th>\n",
       "      <th>Year</th>\n",
       "    </tr>\n",
       "  </thead>\n",
       "  <tbody>\n",
       "    <tr>\n",
       "      <th>0</th>\n",
       "      <td>1</td>\n",
       "      <td>1</td>\n",
       "      <td>Washington</td>\n",
       "      <td>1 Washington</td>\n",
       "      <td>01.Washington.1.txt</td>\n",
       "      <td>AMONG the vicissitudes incident to life no eve...</td>\n",
       "      <td>Nonpartisan</td>\n",
       "      <td>1789</td>\n",
       "    </tr>\n",
       "    <tr>\n",
       "      <th>1</th>\n",
       "      <td>1</td>\n",
       "      <td>2</td>\n",
       "      <td>Washington</td>\n",
       "      <td>2 Washington</td>\n",
       "      <td>01.Washington.2.txt</td>\n",
       "      <td>I AM again called upon by the voice of my coun...</td>\n",
       "      <td>Nonpartisan</td>\n",
       "      <td>1793</td>\n",
       "    </tr>\n",
       "    <tr>\n",
       "      <th>2</th>\n",
       "      <td>2</td>\n",
       "      <td>1</td>\n",
       "      <td>JAdams</td>\n",
       "      <td>1 JAdams</td>\n",
       "      <td>02.JAdams.1.txt</td>\n",
       "      <td>WHEN it was first perceived, in early times, ...</td>\n",
       "      <td>Federalist</td>\n",
       "      <td>1797</td>\n",
       "    </tr>\n",
       "    <tr>\n",
       "      <th>3</th>\n",
       "      <td>3</td>\n",
       "      <td>1</td>\n",
       "      <td>Jefferson</td>\n",
       "      <td>1 Jefferson</td>\n",
       "      <td>03.Jefferson.1.txt</td>\n",
       "      <td>CALLED upon to undertake the duties of the fi...</td>\n",
       "      <td>Democratic-Republican</td>\n",
       "      <td>1801</td>\n",
       "    </tr>\n",
       "    <tr>\n",
       "      <th>4</th>\n",
       "      <td>3</td>\n",
       "      <td>2</td>\n",
       "      <td>Jefferson</td>\n",
       "      <td>2 Jefferson</td>\n",
       "      <td>03.Jefferson.2.txt</td>\n",
       "      <td>PROCEEDING, fellow-citizens, to that qualific...</td>\n",
       "      <td>Democratic-Republican</td>\n",
       "      <td>1805</td>\n",
       "    </tr>\n",
       "  </tbody>\n",
       "</table>\n",
       "</div>"
      ],
      "text/plain": [
       "   president_number term   pres_name      pres_det          president_x  \\\n",
       "0                 1    1  Washington  1 Washington  01.Washington.1.txt   \n",
       "1                 1    2  Washington  2 Washington  01.Washington.2.txt   \n",
       "2                 2    1      JAdams      1 JAdams      02.JAdams.1.txt   \n",
       "3                 3    1   Jefferson   1 Jefferson   03.Jefferson.1.txt   \n",
       "4                 3    2   Jefferson   2 Jefferson   03.Jefferson.2.txt   \n",
       "\n",
       "                                             address                  party  \\\n",
       "0  AMONG the vicissitudes incident to life no eve...           Nonpartisan    \n",
       "1  I AM again called upon by the voice of my coun...           Nonpartisan    \n",
       "2   WHEN it was first perceived, in early times, ...             Federalist   \n",
       "3   CALLED upon to undertake the duties of the fi...  Democratic-Republican   \n",
       "4   PROCEEDING, fellow-citizens, to that qualific...  Democratic-Republican   \n",
       "\n",
       "   Year  \n",
       "0  1789  \n",
       "1  1793  \n",
       "2  1797  \n",
       "3  1801  \n",
       "4  1805  "
      ]
     },
     "execution_count": 19,
     "metadata": {},
     "output_type": "execute_result"
    }
   ],
   "source": [
    "# Perform Merge\n",
    "df = pd.concat([df,df_dates[['Year','Pres']]],axis=1).drop('Pres',axis=1)\n",
    "df.head()"
   ]
  },
  {
   "cell_type": "code",
   "execution_count": 20,
   "id": "japanese-humor",
   "metadata": {},
   "outputs": [],
   "source": [
    "# Create helper function to group each address into 50 year blocks\n",
    "\n",
    "def time_period(x):\n",
    "    if x < 1801:\n",
    "        period = 'pre-1800'\n",
    "    if x > 1800 and i < 1851:\n",
    "        period = '1800-1850'\n",
    "    if x > 1850 and i < 1901:\n",
    "        period = '1851-1900'\n",
    "    if x > 1900 and i < 1951:\n",
    "        period = '1901-1950'\n",
    "    if x > 1950 and i <2001:\n",
    "        period = '1951-2000'\n",
    "    if x > 2000:\n",
    "        period = 'post-2000'\n",
    "    return period "
   ]
  },
  {
   "cell_type": "code",
   "execution_count": 21,
   "id": "assigned-bachelor",
   "metadata": {},
   "outputs": [
    {
     "data": {
      "text/html": [
       "<div>\n",
       "<style scoped>\n",
       "    .dataframe tbody tr th:only-of-type {\n",
       "        vertical-align: middle;\n",
       "    }\n",
       "\n",
       "    .dataframe tbody tr th {\n",
       "        vertical-align: top;\n",
       "    }\n",
       "\n",
       "    .dataframe thead th {\n",
       "        text-align: right;\n",
       "    }\n",
       "</style>\n",
       "<table border=\"1\" class=\"dataframe\">\n",
       "  <thead>\n",
       "    <tr style=\"text-align: right;\">\n",
       "      <th></th>\n",
       "      <th>president_number</th>\n",
       "      <th>term</th>\n",
       "      <th>pres_name</th>\n",
       "      <th>pres_det</th>\n",
       "      <th>president_x</th>\n",
       "      <th>address</th>\n",
       "      <th>party</th>\n",
       "      <th>Year</th>\n",
       "      <th>time_period</th>\n",
       "    </tr>\n",
       "  </thead>\n",
       "  <tbody>\n",
       "    <tr>\n",
       "      <th>0</th>\n",
       "      <td>1</td>\n",
       "      <td>1</td>\n",
       "      <td>Washington</td>\n",
       "      <td>1 Washington</td>\n",
       "      <td>01.Washington.1.txt</td>\n",
       "      <td>AMONG the vicissitudes incident to life no eve...</td>\n",
       "      <td>Nonpartisan</td>\n",
       "      <td>1789</td>\n",
       "      <td>pre-1800</td>\n",
       "    </tr>\n",
       "    <tr>\n",
       "      <th>1</th>\n",
       "      <td>1</td>\n",
       "      <td>2</td>\n",
       "      <td>Washington</td>\n",
       "      <td>2 Washington</td>\n",
       "      <td>01.Washington.2.txt</td>\n",
       "      <td>I AM again called upon by the voice of my coun...</td>\n",
       "      <td>Nonpartisan</td>\n",
       "      <td>1793</td>\n",
       "      <td>pre-1800</td>\n",
       "    </tr>\n",
       "    <tr>\n",
       "      <th>2</th>\n",
       "      <td>2</td>\n",
       "      <td>1</td>\n",
       "      <td>JAdams</td>\n",
       "      <td>1 JAdams</td>\n",
       "      <td>02.JAdams.1.txt</td>\n",
       "      <td>WHEN it was first perceived, in early times, ...</td>\n",
       "      <td>Federalist</td>\n",
       "      <td>1797</td>\n",
       "      <td>pre-1800</td>\n",
       "    </tr>\n",
       "    <tr>\n",
       "      <th>3</th>\n",
       "      <td>3</td>\n",
       "      <td>1</td>\n",
       "      <td>Jefferson</td>\n",
       "      <td>1 Jefferson</td>\n",
       "      <td>03.Jefferson.1.txt</td>\n",
       "      <td>CALLED upon to undertake the duties of the fi...</td>\n",
       "      <td>Democratic-Republican</td>\n",
       "      <td>1801</td>\n",
       "      <td>1800-1850</td>\n",
       "    </tr>\n",
       "    <tr>\n",
       "      <th>4</th>\n",
       "      <td>3</td>\n",
       "      <td>2</td>\n",
       "      <td>Jefferson</td>\n",
       "      <td>2 Jefferson</td>\n",
       "      <td>03.Jefferson.2.txt</td>\n",
       "      <td>PROCEEDING, fellow-citizens, to that qualific...</td>\n",
       "      <td>Democratic-Republican</td>\n",
       "      <td>1805</td>\n",
       "      <td>1800-1850</td>\n",
       "    </tr>\n",
       "  </tbody>\n",
       "</table>\n",
       "</div>"
      ],
      "text/plain": [
       "   president_number term   pres_name      pres_det          president_x  \\\n",
       "0                 1    1  Washington  1 Washington  01.Washington.1.txt   \n",
       "1                 1    2  Washington  2 Washington  01.Washington.2.txt   \n",
       "2                 2    1      JAdams      1 JAdams      02.JAdams.1.txt   \n",
       "3                 3    1   Jefferson   1 Jefferson   03.Jefferson.1.txt   \n",
       "4                 3    2   Jefferson   2 Jefferson   03.Jefferson.2.txt   \n",
       "\n",
       "                                             address                  party  \\\n",
       "0  AMONG the vicissitudes incident to life no eve...           Nonpartisan    \n",
       "1  I AM again called upon by the voice of my coun...           Nonpartisan    \n",
       "2   WHEN it was first perceived, in early times, ...             Federalist   \n",
       "3   CALLED upon to undertake the duties of the fi...  Democratic-Republican   \n",
       "4   PROCEEDING, fellow-citizens, to that qualific...  Democratic-Republican   \n",
       "\n",
       "   Year time_period  \n",
       "0  1789    pre-1800  \n",
       "1  1793    pre-1800  \n",
       "2  1797    pre-1800  \n",
       "3  1801   1800-1850  \n",
       "4  1805   1800-1850  "
      ]
     },
     "execution_count": 21,
     "metadata": {},
     "output_type": "execute_result"
    }
   ],
   "source": [
    "# Apply helper function to each row\n",
    "\n",
    "df['time_period'] = df['Year'].apply(lambda x: time_period(x))\n",
    "df.head()"
   ]
  },
  {
   "cell_type": "code",
   "execution_count": 22,
   "id": "failing-breathing",
   "metadata": {},
   "outputs": [],
   "source": [
    "# Group Presidents by Party (seperate pre-Lincoln Dems)\n",
    "\n",
    "# first remove extra space in republican\n",
    "df['party'] = df['party'].apply(lambda x: str.strip(x)) "
   ]
  },
  {
   "cell_type": "code",
   "execution_count": 23,
   "id": "alternative-employer",
   "metadata": {},
   "outputs": [],
   "source": [
    "# Pickle dataframe and save for later use\n",
    "\n",
    "path = r\"C:\\Users\\Andrew\\Documents\\Metis\\NLP_Inaugural_Addresses\\Pickled_Files\\cleaned_addresses.pkl\"\n",
    "with open(path, 'wb') as f:\n",
    "    pickle.dump(df, f)"
   ]
  }
 ],
 "metadata": {
  "kernelspec": {
   "display_name": "Python 3",
   "language": "python",
   "name": "python3"
  },
  "language_info": {
   "codemirror_mode": {
    "name": "ipython",
    "version": 3
   },
   "file_extension": ".py",
   "mimetype": "text/x-python",
   "name": "python",
   "nbconvert_exporter": "python",
   "pygments_lexer": "ipython3",
   "version": "3.8.5"
  }
 },
 "nbformat": 4,
 "nbformat_minor": 5
}
