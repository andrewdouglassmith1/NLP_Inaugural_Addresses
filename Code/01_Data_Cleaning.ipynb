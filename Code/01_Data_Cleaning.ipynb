{
 "cells": [
  {
   "cell_type": "markdown",
   "id": "marine-representation",
   "metadata": {},
   "source": [
    "## Importing Data and Initial Cleaning"
   ]
  },
  {
   "cell_type": "code",
   "execution_count": 211,
   "id": "minor-investigation",
   "metadata": {},
   "outputs": [],
   "source": [
    "import os\n",
    "import pandas as pd\n",
    "import pickle"
   ]
  },
  {
   "cell_type": "code",
   "execution_count": 212,
   "id": "mediterranean-distributor",
   "metadata": {},
   "outputs": [],
   "source": [
    "# Initialize Dataframe \n",
    "\n",
    "df = pd.DataFrame(columns=['president','address'])"
   ]
  },
  {
   "cell_type": "code",
   "execution_count": 213,
   "id": "developed-hawaii",
   "metadata": {},
   "outputs": [],
   "source": [
    "# Designate Path\n",
    "\n",
    "path = 'C:\\\\Users\\\\Andrew\\\\Documents\\\\Metis\\\\NLP_Inaugural_Addresses\\\\Data\\\\InauguralTexts'"
   ]
  },
  {
   "cell_type": "code",
   "execution_count": 214,
   "id": "necessary-portable",
   "metadata": {},
   "outputs": [],
   "source": [
    "# Read all .txt files and append to a single dataframe\n",
    "\n",
    "for filename in os.listdir(path):\n",
    "    with open(os.path.join(path,filename)) as f:\n",
    "        address = f.read()\n",
    "        current_df = pd.DataFrame({'address': [address],'president':[filename]})\n",
    "        df = df.append(current_df, ignore_index=True)"
   ]
  },
  {
   "cell_type": "code",
   "execution_count": 215,
   "id": "large-radical",
   "metadata": {},
   "outputs": [],
   "source": [
    "# Renaming \"Roosevelt\" to \"FRoosevelt\"\n",
    "\n",
    "for i in range(36,40):\n",
    "    df['president'][i] = df['president'][i].replace(\"Roosevelt\",\"FRoosevelt\")\n",
    "\n",
    "# Renaming \"Roosevelt\" to \"TRoosevelt\"\n",
    "df['president'][29] = df['president'][29].replace(\"Roosevelt\",\"TRoosevelt\")"
   ]
  },
  {
   "cell_type": "code",
   "execution_count": 216,
   "id": "missing-democrat",
   "metadata": {},
   "outputs": [],
   "source": [
    "# Creating a Column that Represents President Number\n",
    "\n",
    "df['president_number'] = [i.strip(\".\")[0:2] for i in df.president]\n",
    "df = df[['president_number','president','address']]"
   ]
  },
  {
   "cell_type": "code",
   "execution_count": 217,
   "id": "revolutionary-thanksgiving",
   "metadata": {},
   "outputs": [],
   "source": [
    "# Creating a column that is only the presidents name\n",
    "\n",
    "df['pres_name'] = [i.split(\".\")[1] for i in df['president']]\n",
    "\n",
    "# Creat a column that represents term number\n",
    "\n",
    "df['term'] = [i.split(\".\")[2] for i in df['president']]"
   ]
  },
  {
   "cell_type": "code",
   "execution_count": 218,
   "id": "configured-cholesterol",
   "metadata": {},
   "outputs": [],
   "source": [
    "# re-orient columns\n",
    "df = df[['president_number','term','pres_name','president','address']]"
   ]
  },
  {
   "cell_type": "code",
   "execution_count": 219,
   "id": "introductory-roberts",
   "metadata": {},
   "outputs": [],
   "source": [
    "# Merging Party Information\n",
    "path = r\"C:\\Users\\Andrew\\Documents\\Metis\\NLP_Inaugural_Addresses\\Data\\PresidentInfo\"\n",
    "df_party = pd.read_csv(path+\"\\Pres_Details.csv\")"
   ]
  },
  {
   "cell_type": "code",
   "execution_count": 220,
   "id": "alien-piano",
   "metadata": {},
   "outputs": [],
   "source": [
    "# Convert to int for merge\n",
    "df['president_number'] = df['president_number'].astype(int)\n",
    "\n",
    "# Perform Merge\n",
    "df = df.merge(df_party,left_on=\"president_number\",right_on='S.No.')\n",
    "\n",
    "# Drop Columns\n",
    "df = df.drop(['start','end','president_y','vice','prior','S.No.'],axis=1)"
   ]
  },
  {
   "cell_type": "code",
   "execution_count": 221,
   "id": "differential-financing",
   "metadata": {},
   "outputs": [],
   "source": [
    "# Pickle dataframe and save for later use\n",
    "\n",
    "#Pickle and load grid search results\n",
    "path = r\"C:\\Users\\Andrew\\Documents\\Metis\\NLP_Inaugural_Addresses\\Pickled_Files\\cleaned_addresses.pkl\"\n",
    "with open(path, 'wb') as f:\n",
    "    pickle.dump(df, f)"
   ]
  },
  {
   "cell_type": "code",
   "execution_count": 222,
   "id": "personal-tennis",
   "metadata": {},
   "outputs": [
    {
     "data": {
      "text/html": [
       "<div>\n",
       "<style scoped>\n",
       "    .dataframe tbody tr th:only-of-type {\n",
       "        vertical-align: middle;\n",
       "    }\n",
       "\n",
       "    .dataframe tbody tr th {\n",
       "        vertical-align: top;\n",
       "    }\n",
       "\n",
       "    .dataframe thead th {\n",
       "        text-align: right;\n",
       "    }\n",
       "</style>\n",
       "<table border=\"1\" class=\"dataframe\">\n",
       "  <thead>\n",
       "    <tr style=\"text-align: right;\">\n",
       "      <th></th>\n",
       "      <th>president_number</th>\n",
       "      <th>term</th>\n",
       "      <th>pres_name</th>\n",
       "      <th>president_x</th>\n",
       "      <th>address</th>\n",
       "      <th>party</th>\n",
       "    </tr>\n",
       "  </thead>\n",
       "  <tbody>\n",
       "    <tr>\n",
       "      <th>0</th>\n",
       "      <td>1</td>\n",
       "      <td>1</td>\n",
       "      <td>Washington</td>\n",
       "      <td>01.Washington.1.txt</td>\n",
       "      <td>AMONG the vicissitudes incident to life no eve...</td>\n",
       "      <td>Nonpartisan</td>\n",
       "    </tr>\n",
       "    <tr>\n",
       "      <th>1</th>\n",
       "      <td>1</td>\n",
       "      <td>2</td>\n",
       "      <td>Washington</td>\n",
       "      <td>01.Washington.2.txt</td>\n",
       "      <td>I AM again called upon by the voice of my coun...</td>\n",
       "      <td>Nonpartisan</td>\n",
       "    </tr>\n",
       "    <tr>\n",
       "      <th>2</th>\n",
       "      <td>2</td>\n",
       "      <td>1</td>\n",
       "      <td>Adams</td>\n",
       "      <td>02.Adams.1.txt</td>\n",
       "      <td>WHEN it was first perceived, in early times, ...</td>\n",
       "      <td>Federalist</td>\n",
       "    </tr>\n",
       "    <tr>\n",
       "      <th>3</th>\n",
       "      <td>3</td>\n",
       "      <td>1</td>\n",
       "      <td>Jefferson</td>\n",
       "      <td>03.Jefferson.1.txt</td>\n",
       "      <td>CALLED upon to undertake the duties of the fi...</td>\n",
       "      <td>Democratic-Republican</td>\n",
       "    </tr>\n",
       "    <tr>\n",
       "      <th>4</th>\n",
       "      <td>3</td>\n",
       "      <td>2</td>\n",
       "      <td>Jefferson</td>\n",
       "      <td>03.Jefferson.2.txt</td>\n",
       "      <td>PROCEEDING, fellow-citizens, to that qualific...</td>\n",
       "      <td>Democratic-Republican</td>\n",
       "    </tr>\n",
       "  </tbody>\n",
       "</table>\n",
       "</div>"
      ],
      "text/plain": [
       "   president_number term   pres_name          president_x  \\\n",
       "0                 1    1  Washington  01.Washington.1.txt   \n",
       "1                 1    2  Washington  01.Washington.2.txt   \n",
       "2                 2    1       Adams       02.Adams.1.txt   \n",
       "3                 3    1   Jefferson   03.Jefferson.1.txt   \n",
       "4                 3    2   Jefferson   03.Jefferson.2.txt   \n",
       "\n",
       "                                             address                  party  \n",
       "0  AMONG the vicissitudes incident to life no eve...           Nonpartisan   \n",
       "1  I AM again called upon by the voice of my coun...           Nonpartisan   \n",
       "2   WHEN it was first perceived, in early times, ...             Federalist  \n",
       "3   CALLED upon to undertake the duties of the fi...  Democratic-Republican  \n",
       "4   PROCEEDING, fellow-citizens, to that qualific...  Democratic-Republican  "
      ]
     },
     "execution_count": 222,
     "metadata": {},
     "output_type": "execute_result"
    }
   ],
   "source": [
    "df.head()"
   ]
  },
  {
   "cell_type": "code",
   "execution_count": null,
   "id": "indie-perry",
   "metadata": {},
   "outputs": [],
   "source": []
  }
 ],
 "metadata": {
  "kernelspec": {
   "display_name": "Python 3",
   "language": "python",
   "name": "python3"
  },
  "language_info": {
   "codemirror_mode": {
    "name": "ipython",
    "version": 3
   },
   "file_extension": ".py",
   "mimetype": "text/x-python",
   "name": "python",
   "nbconvert_exporter": "python",
   "pygments_lexer": "ipython3",
   "version": "3.8.5"
  }
 },
 "nbformat": 4,
 "nbformat_minor": 5
}
