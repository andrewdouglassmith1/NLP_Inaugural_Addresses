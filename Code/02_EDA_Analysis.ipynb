{
 "cells": [
  {
   "cell_type": "markdown",
   "id": "flush-review",
   "metadata": {},
   "source": [
    "# Imports"
   ]
  },
  {
   "cell_type": "code",
   "execution_count": 17,
   "id": "stuffed-representation",
   "metadata": {},
   "outputs": [],
   "source": [
    "import pickle\n",
    "import pandas as pd\n",
    "from nltk import sent_tokenize\n",
    "from nltk import word_tokenize\n",
    "from sklearn.feature_extraction.text import CountVectorizer \n",
    "import seaborn as sns\n",
    "import matplotlib.pyplot as plt\n",
    "from nltk.stem import WordNetLemmatizer\n",
    "from nltk.corpus import stopwords\n",
    "import re\n",
    "from nltk.tokenize import word_tokenize,sent_tokenize\n",
    "import nltk \n",
    "import os"
   ]
  },
  {
   "cell_type": "markdown",
   "id": "occupied-steering",
   "metadata": {},
   "source": [
    "# Importing Data"
   ]
  },
  {
   "cell_type": "code",
   "execution_count": 18,
   "id": "fantastic-amazon",
   "metadata": {},
   "outputs": [
    {
     "data": {
      "text/html": [
       "<div>\n",
       "<style scoped>\n",
       "    .dataframe tbody tr th:only-of-type {\n",
       "        vertical-align: middle;\n",
       "    }\n",
       "\n",
       "    .dataframe tbody tr th {\n",
       "        vertical-align: top;\n",
       "    }\n",
       "\n",
       "    .dataframe thead th {\n",
       "        text-align: right;\n",
       "    }\n",
       "</style>\n",
       "<table border=\"1\" class=\"dataframe\">\n",
       "  <thead>\n",
       "    <tr style=\"text-align: right;\">\n",
       "      <th></th>\n",
       "      <th>president_number</th>\n",
       "      <th>term</th>\n",
       "      <th>pres_name</th>\n",
       "      <th>pres_det</th>\n",
       "      <th>president_x</th>\n",
       "      <th>address</th>\n",
       "      <th>party</th>\n",
       "      <th>Year</th>\n",
       "      <th>time_period</th>\n",
       "    </tr>\n",
       "  </thead>\n",
       "  <tbody>\n",
       "    <tr>\n",
       "      <th>0</th>\n",
       "      <td>1</td>\n",
       "      <td>1</td>\n",
       "      <td>Washington</td>\n",
       "      <td>1 Washington</td>\n",
       "      <td>01.Washington.1.txt</td>\n",
       "      <td>AMONG the vicissitudes incident to life no eve...</td>\n",
       "      <td>Nonpartisan</td>\n",
       "      <td>1789</td>\n",
       "      <td>pre-1800</td>\n",
       "    </tr>\n",
       "    <tr>\n",
       "      <th>1</th>\n",
       "      <td>1</td>\n",
       "      <td>2</td>\n",
       "      <td>Washington</td>\n",
       "      <td>2 Washington</td>\n",
       "      <td>01.Washington.2.txt</td>\n",
       "      <td>I AM again called upon by the voice of my coun...</td>\n",
       "      <td>Nonpartisan</td>\n",
       "      <td>1793</td>\n",
       "      <td>pre-1800</td>\n",
       "    </tr>\n",
       "    <tr>\n",
       "      <th>2</th>\n",
       "      <td>2</td>\n",
       "      <td>1</td>\n",
       "      <td>JAdams</td>\n",
       "      <td>1 JAdams</td>\n",
       "      <td>02.JAdams.1.txt</td>\n",
       "      <td>WHEN it was first perceived, in early times, ...</td>\n",
       "      <td>Federalist</td>\n",
       "      <td>1797</td>\n",
       "      <td>pre-1800</td>\n",
       "    </tr>\n",
       "    <tr>\n",
       "      <th>3</th>\n",
       "      <td>3</td>\n",
       "      <td>1</td>\n",
       "      <td>Jefferson</td>\n",
       "      <td>1 Jefferson</td>\n",
       "      <td>03.Jefferson.1.txt</td>\n",
       "      <td>CALLED upon to undertake the duties of the fi...</td>\n",
       "      <td>Democratic-Republican</td>\n",
       "      <td>1801</td>\n",
       "      <td>1800-1850</td>\n",
       "    </tr>\n",
       "    <tr>\n",
       "      <th>4</th>\n",
       "      <td>3</td>\n",
       "      <td>2</td>\n",
       "      <td>Jefferson</td>\n",
       "      <td>2 Jefferson</td>\n",
       "      <td>03.Jefferson.2.txt</td>\n",
       "      <td>PROCEEDING, fellow-citizens, to that qualific...</td>\n",
       "      <td>Democratic-Republican</td>\n",
       "      <td>1805</td>\n",
       "      <td>1800-1850</td>\n",
       "    </tr>\n",
       "  </tbody>\n",
       "</table>\n",
       "</div>"
      ],
      "text/plain": [
       "   president_number term   pres_name      pres_det          president_x  \\\n",
       "0                 1    1  Washington  1 Washington  01.Washington.1.txt   \n",
       "1                 1    2  Washington  2 Washington  01.Washington.2.txt   \n",
       "2                 2    1      JAdams      1 JAdams      02.JAdams.1.txt   \n",
       "3                 3    1   Jefferson   1 Jefferson   03.Jefferson.1.txt   \n",
       "4                 3    2   Jefferson   2 Jefferson   03.Jefferson.2.txt   \n",
       "\n",
       "                                             address                  party  \\\n",
       "0  AMONG the vicissitudes incident to life no eve...            Nonpartisan   \n",
       "1  I AM again called upon by the voice of my coun...            Nonpartisan   \n",
       "2   WHEN it was first perceived, in early times, ...             Federalist   \n",
       "3   CALLED upon to undertake the duties of the fi...  Democratic-Republican   \n",
       "4   PROCEEDING, fellow-citizens, to that qualific...  Democratic-Republican   \n",
       "\n",
       "   Year time_period  \n",
       "0  1789    pre-1800  \n",
       "1  1793    pre-1800  \n",
       "2  1797    pre-1800  \n",
       "3  1801   1800-1850  \n",
       "4  1805   1800-1850  "
      ]
     },
     "execution_count": 18,
     "metadata": {},
     "output_type": "execute_result"
    }
   ],
   "source": [
    "# Load Pickled Dataframe from Cleaning Notebook into a DataFrame\n",
    "path = r\"C:\\Users\\Andrew\\Documents\\Metis\\NLP_Inaugural_Addresses\\Pickled_Files\\cleaned_addresses.pkl\"\n",
    "\n",
    "df = pickle.load(open(path,'rb'))\n",
    "df.head()"
   ]
  },
  {
   "cell_type": "markdown",
   "id": "protective-gentleman",
   "metadata": {},
   "source": [
    "# EDA"
   ]
  },
  {
   "cell_type": "markdown",
   "id": "painted-bride",
   "metadata": {},
   "source": [
    "### Total sentences"
   ]
  },
  {
   "cell_type": "code",
   "execution_count": 19,
   "id": "optimum-grain",
   "metadata": {},
   "outputs": [],
   "source": [
    "# Number of sentences\n",
    "df['total_sentences'] = df['address'].apply(lambda x: len(sent_tokenize(x)))"
   ]
  },
  {
   "cell_type": "markdown",
   "id": "accompanied-abuse",
   "metadata": {},
   "source": [
    "### Word Count"
   ]
  },
  {
   "cell_type": "code",
   "execution_count": 21,
   "id": "flexible-politics",
   "metadata": {},
   "outputs": [],
   "source": [
    "# Number of words\n",
    "df['total_words'] = df['address'].apply(lambda x: len(word_tokenize(x)))"
   ]
  },
  {
   "cell_type": "markdown",
   "id": "color-italy",
   "metadata": {},
   "source": [
    "## Words / Sentence"
   ]
  },
  {
   "cell_type": "code",
   "execution_count": 23,
   "id": "unnecessary-street",
   "metadata": {},
   "outputs": [],
   "source": [
    "# Number of words / sentence\n",
    "df['words_per_sentence'] = df['total_words']/df['total_sentences']"
   ]
  },
  {
   "cell_type": "markdown",
   "id": "veterinary-direction",
   "metadata": {},
   "source": [
    "## Counting the occurence of \"We\" vs. \"I\" (Total and Ratio)"
   ]
  },
  {
   "cell_type": "code",
   "execution_count": 25,
   "id": "recent-broadway",
   "metadata": {},
   "outputs": [],
   "source": [
    "my_vocabulary = [\"i\",\"we\"]"
   ]
  },
  {
   "cell_type": "code",
   "execution_count": 26,
   "id": "secret-harvard",
   "metadata": {},
   "outputs": [],
   "source": [
    "text = df['address']\n",
    "\n",
    "# Define Count Vectorizer\n",
    "vectorizer = CountVectorizer(analyzer='word',token_pattern=r'\\b[^\\d\\W]+\\b')\n",
    "\n",
    "# call `fit` to build the vocabulary\n",
    "vectorizer.fit_transform(my_vocabulary)\n",
    "\n",
    "# finally, call `transform` to convert text to a bag of words\n",
    "x = vectorizer.transform(text)"
   ]
  },
  {
   "cell_type": "code",
   "execution_count": 27,
   "id": "metallic-cartridge",
   "metadata": {},
   "outputs": [],
   "source": [
    "# Convert sparse array to numpy array\n",
    "x_back = x.toarray()"
   ]
  },
  {
   "cell_type": "code",
   "execution_count": 28,
   "id": "solved-slovenia",
   "metadata": {},
   "outputs": [],
   "source": [
    "# Create Word Matrix and merge with original matrix\n",
    "\n",
    "df_i_we = pd.DataFrame(x_back, columns=vectorizer.get_feature_names())\n",
    "df = pd.concat([df,df_i_we],axis=1)\n",
    "\n",
    "# Create a column for ratio of we / i\n",
    "df['I_We_Ratio'] = df['we']/df['i']"
   ]
  },
  {
   "cell_type": "markdown",
   "id": "incident-victoria",
   "metadata": {},
   "source": [
    "## Save to csv for tableau data visualization"
   ]
  },
  {
   "cell_type": "code",
   "execution_count": 33,
   "id": "surprising-demonstration",
   "metadata": {},
   "outputs": [],
   "source": [
    "# Set file path to send csv for tableau visualization\n",
    "path = r\"C:\\Users\\Andrew\\Documents\\Metis\\NLP_Inaugural_Addresses\\Data\\Visualization\""
   ]
  },
  {
   "cell_type": "code",
   "execution_count": 34,
   "id": "indirect-learning",
   "metadata": {},
   "outputs": [
    {
     "data": {
      "text/plain": [
       "Index(['president_number', 'term', 'pres_name', 'pres_det', 'president_x',\n",
       "       'address', 'party', 'Year', 'time_period', 'total_sentences',\n",
       "       'total_words', 'words_per_sentence', 'i', 'we', 'I_We_Ratio'],\n",
       "      dtype='object')"
      ]
     },
     "execution_count": 34,
     "metadata": {},
     "output_type": "execute_result"
    }
   ],
   "source": [
    "df.columns"
   ]
  },
  {
   "cell_type": "code",
   "execution_count": 35,
   "id": "declared-latin",
   "metadata": {},
   "outputs": [],
   "source": [
    "df_eda = df[['pres_name','pres_det','party', 'Year', 'time_period', 'total_sentences', 'total_words',\n",
    "            'words_per_sentence', 'i', 'we', 'I_We_Ratio']]"
   ]
  },
  {
   "cell_type": "code",
   "execution_count": 36,
   "id": "spare-decimal",
   "metadata": {},
   "outputs": [],
   "source": [
    "df_eda.to_csv(os.path.join(path,r'eda.csv'))"
   ]
  },
  {
   "cell_type": "code",
   "execution_count": 37,
   "id": "refined-announcement",
   "metadata": {
    "scrolled": true
   },
   "outputs": [
    {
     "data": {
      "text/html": [
       "<div>\n",
       "<style scoped>\n",
       "    .dataframe tbody tr th:only-of-type {\n",
       "        vertical-align: middle;\n",
       "    }\n",
       "\n",
       "    .dataframe tbody tr th {\n",
       "        vertical-align: top;\n",
       "    }\n",
       "\n",
       "    .dataframe thead th {\n",
       "        text-align: right;\n",
       "    }\n",
       "</style>\n",
       "<table border=\"1\" class=\"dataframe\">\n",
       "  <thead>\n",
       "    <tr style=\"text-align: right;\">\n",
       "      <th></th>\n",
       "      <th>pres_name</th>\n",
       "      <th>pres_det</th>\n",
       "      <th>party</th>\n",
       "      <th>Year</th>\n",
       "      <th>time_period</th>\n",
       "      <th>total_sentences</th>\n",
       "      <th>total_words</th>\n",
       "      <th>words_per_sentence</th>\n",
       "      <th>i</th>\n",
       "      <th>we</th>\n",
       "      <th>I_We_Ratio</th>\n",
       "    </tr>\n",
       "  </thead>\n",
       "  <tbody>\n",
       "    <tr>\n",
       "      <th>0</th>\n",
       "      <td>Washington</td>\n",
       "      <td>1 Washington</td>\n",
       "      <td>Nonpartisan</td>\n",
       "      <td>1789</td>\n",
       "      <td>pre-1800</td>\n",
       "      <td>23</td>\n",
       "      <td>1524</td>\n",
       "      <td>66.260870</td>\n",
       "      <td>23</td>\n",
       "      <td>1</td>\n",
       "      <td>0.043478</td>\n",
       "    </tr>\n",
       "    <tr>\n",
       "      <th>1</th>\n",
       "      <td>Washington</td>\n",
       "      <td>2 Washington</td>\n",
       "      <td>Nonpartisan</td>\n",
       "      <td>1793</td>\n",
       "      <td>pre-1800</td>\n",
       "      <td>4</td>\n",
       "      <td>144</td>\n",
       "      <td>36.000000</td>\n",
       "      <td>6</td>\n",
       "      <td>0</td>\n",
       "      <td>0.000000</td>\n",
       "    </tr>\n",
       "    <tr>\n",
       "      <th>2</th>\n",
       "      <td>JAdams</td>\n",
       "      <td>1 JAdams</td>\n",
       "      <td>Federalist</td>\n",
       "      <td>1797</td>\n",
       "      <td>pre-1800</td>\n",
       "      <td>37</td>\n",
       "      <td>2578</td>\n",
       "      <td>69.675676</td>\n",
       "      <td>13</td>\n",
       "      <td>3</td>\n",
       "      <td>0.230769</td>\n",
       "    </tr>\n",
       "    <tr>\n",
       "      <th>3</th>\n",
       "      <td>Jefferson</td>\n",
       "      <td>1 Jefferson</td>\n",
       "      <td>Democratic-Republican</td>\n",
       "      <td>1801</td>\n",
       "      <td>1800-1850</td>\n",
       "      <td>41</td>\n",
       "      <td>1916</td>\n",
       "      <td>46.731707</td>\n",
       "      <td>21</td>\n",
       "      <td>10</td>\n",
       "      <td>0.476190</td>\n",
       "    </tr>\n",
       "    <tr>\n",
       "      <th>4</th>\n",
       "      <td>Jefferson</td>\n",
       "      <td>2 Jefferson</td>\n",
       "      <td>Democratic-Republican</td>\n",
       "      <td>1805</td>\n",
       "      <td>1800-1850</td>\n",
       "      <td>45</td>\n",
       "      <td>2374</td>\n",
       "      <td>52.755556</td>\n",
       "      <td>18</td>\n",
       "      <td>13</td>\n",
       "      <td>0.722222</td>\n",
       "    </tr>\n",
       "  </tbody>\n",
       "</table>\n",
       "</div>"
      ],
      "text/plain": [
       "    pres_name      pres_det                  party  Year time_period  \\\n",
       "0  Washington  1 Washington            Nonpartisan  1789    pre-1800   \n",
       "1  Washington  2 Washington            Nonpartisan  1793    pre-1800   \n",
       "2      JAdams      1 JAdams             Federalist  1797    pre-1800   \n",
       "3   Jefferson   1 Jefferson  Democratic-Republican  1801   1800-1850   \n",
       "4   Jefferson   2 Jefferson  Democratic-Republican  1805   1800-1850   \n",
       "\n",
       "   total_sentences  total_words  words_per_sentence   i  we  I_We_Ratio  \n",
       "0               23         1524           66.260870  23   1    0.043478  \n",
       "1                4          144           36.000000   6   0    0.000000  \n",
       "2               37         2578           69.675676  13   3    0.230769  \n",
       "3               41         1916           46.731707  21  10    0.476190  \n",
       "4               45         2374           52.755556  18  13    0.722222  "
      ]
     },
     "execution_count": 37,
     "metadata": {},
     "output_type": "execute_result"
    }
   ],
   "source": [
    "df_eda.head()"
   ]
  }
 ],
 "metadata": {
  "kernelspec": {
   "display_name": "Python 3",
   "language": "python",
   "name": "python3"
  },
  "language_info": {
   "codemirror_mode": {
    "name": "ipython",
    "version": 3
   },
   "file_extension": ".py",
   "mimetype": "text/x-python",
   "name": "python",
   "nbconvert_exporter": "python",
   "pygments_lexer": "ipython3",
   "version": "3.8.5"
  }
 },
 "nbformat": 4,
 "nbformat_minor": 5
}
