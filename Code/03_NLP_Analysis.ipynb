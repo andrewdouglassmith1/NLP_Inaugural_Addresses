{
 "cells": [
  {
   "cell_type": "markdown",
   "id": "bacterial-cricket",
   "metadata": {},
   "source": [
    "Interesting things to explore\n",
    "- Most common words through time\n",
    "- length of word \n",
    "- hue: Democrats vs. Republicans\n",
    "- hue: 1750-1800, 1800-1850, etc.\n",
    "- add frequencies\n",
    "- sentiment\n",
    "- Clustering of all parties\n",
    "- Topic modelling"
   ]
  },
  {
   "cell_type": "markdown",
   "id": "improving-english",
   "metadata": {},
   "source": [
    "## Importing Classes & Libraries"
   ]
  },
  {
   "cell_type": "code",
   "execution_count": 2,
   "id": "competent-enemy",
   "metadata": {},
   "outputs": [],
   "source": [
    "import pickle\n",
    "import pandas as pd\n",
    "from nltk import sent_tokenize\n",
    "from nltk import word_tokenize\n",
    "from sklearn.feature_extraction.text import CountVectorizer \n",
    "import seaborn as sns\n",
    "import matplotlib.pyplot as plt\n",
    "from nltk.stem import WordNetLemmatizer\n",
    "from project_classes import LemmaTokenizer\n",
    "from nltk.corpus import stopwords\n",
    "import re\n",
    "from nltk.tokenize import word_tokenize,sent_tokenize\n",
    "import nltk "
   ]
  },
  {
   "cell_type": "markdown",
   "id": "sitting-discharge",
   "metadata": {},
   "source": [
    "## Import Data"
   ]
  },
  {
   "cell_type": "code",
   "execution_count": 3,
   "id": "present-homeless",
   "metadata": {},
   "outputs": [
    {
     "data": {
      "text/html": [
       "<div>\n",
       "<style scoped>\n",
       "    .dataframe tbody tr th:only-of-type {\n",
       "        vertical-align: middle;\n",
       "    }\n",
       "\n",
       "    .dataframe tbody tr th {\n",
       "        vertical-align: top;\n",
       "    }\n",
       "\n",
       "    .dataframe thead th {\n",
       "        text-align: right;\n",
       "    }\n",
       "</style>\n",
       "<table border=\"1\" class=\"dataframe\">\n",
       "  <thead>\n",
       "    <tr style=\"text-align: right;\">\n",
       "      <th></th>\n",
       "      <th>president_number</th>\n",
       "      <th>term</th>\n",
       "      <th>pres_name</th>\n",
       "      <th>president_x</th>\n",
       "      <th>address</th>\n",
       "      <th>party</th>\n",
       "      <th>Year</th>\n",
       "      <th>time_period</th>\n",
       "    </tr>\n",
       "  </thead>\n",
       "  <tbody>\n",
       "    <tr>\n",
       "      <th>0</th>\n",
       "      <td>1</td>\n",
       "      <td>1</td>\n",
       "      <td>Washington</td>\n",
       "      <td>01.Washington.1.txt</td>\n",
       "      <td>AMONG the vicissitudes incident to life no eve...</td>\n",
       "      <td>Nonpartisan</td>\n",
       "      <td>1789</td>\n",
       "      <td>pre-1800</td>\n",
       "    </tr>\n",
       "    <tr>\n",
       "      <th>1</th>\n",
       "      <td>1</td>\n",
       "      <td>2</td>\n",
       "      <td>Washington</td>\n",
       "      <td>01.Washington.2.txt</td>\n",
       "      <td>I AM again called upon by the voice of my coun...</td>\n",
       "      <td>Nonpartisan</td>\n",
       "      <td>1793</td>\n",
       "      <td>pre-1800</td>\n",
       "    </tr>\n",
       "    <tr>\n",
       "      <th>2</th>\n",
       "      <td>2</td>\n",
       "      <td>1</td>\n",
       "      <td>Adams</td>\n",
       "      <td>02.Adams.1.txt</td>\n",
       "      <td>WHEN it was first perceived, in early times, ...</td>\n",
       "      <td>Federalist</td>\n",
       "      <td>1797</td>\n",
       "      <td>pre-1800</td>\n",
       "    </tr>\n",
       "    <tr>\n",
       "      <th>3</th>\n",
       "      <td>3</td>\n",
       "      <td>1</td>\n",
       "      <td>Jefferson</td>\n",
       "      <td>03.Jefferson.1.txt</td>\n",
       "      <td>CALLED upon to undertake the duties of the fi...</td>\n",
       "      <td>Democratic-Republican</td>\n",
       "      <td>1801</td>\n",
       "      <td>1800-1850</td>\n",
       "    </tr>\n",
       "    <tr>\n",
       "      <th>4</th>\n",
       "      <td>3</td>\n",
       "      <td>2</td>\n",
       "      <td>Jefferson</td>\n",
       "      <td>03.Jefferson.2.txt</td>\n",
       "      <td>PROCEEDING, fellow-citizens, to that qualific...</td>\n",
       "      <td>Democratic-Republican</td>\n",
       "      <td>1805</td>\n",
       "      <td>1800-1850</td>\n",
       "    </tr>\n",
       "  </tbody>\n",
       "</table>\n",
       "</div>"
      ],
      "text/plain": [
       "   president_number term   pres_name          president_x  \\\n",
       "0                 1    1  Washington  01.Washington.1.txt   \n",
       "1                 1    2  Washington  01.Washington.2.txt   \n",
       "2                 2    1       Adams       02.Adams.1.txt   \n",
       "3                 3    1   Jefferson   03.Jefferson.1.txt   \n",
       "4                 3    2   Jefferson   03.Jefferson.2.txt   \n",
       "\n",
       "                                             address                  party  \\\n",
       "0  AMONG the vicissitudes incident to life no eve...            Nonpartisan   \n",
       "1  I AM again called upon by the voice of my coun...            Nonpartisan   \n",
       "2   WHEN it was first perceived, in early times, ...             Federalist   \n",
       "3   CALLED upon to undertake the duties of the fi...  Democratic-Republican   \n",
       "4   PROCEEDING, fellow-citizens, to that qualific...  Democratic-Republican   \n",
       "\n",
       "   Year time_period  \n",
       "0  1789    pre-1800  \n",
       "1  1793    pre-1800  \n",
       "2  1797    pre-1800  \n",
       "3  1801   1800-1850  \n",
       "4  1805   1800-1850  "
      ]
     },
     "execution_count": 3,
     "metadata": {},
     "output_type": "execute_result"
    }
   ],
   "source": [
    "# Load Pickled Dataframe from Cleaning Notebook into a DataFrame\n",
    "path = r\"C:\\Users\\Andrew\\Documents\\Metis\\NLP_Inaugural_Addresses\\Pickled_Files\\cleaned_addresses.pkl\"\n",
    "\n",
    "df = pickle.load(open(path,'rb'))\n",
    "df.head()"
   ]
  },
  {
   "cell_type": "markdown",
   "id": "canadian-insurance",
   "metadata": {},
   "source": [
    "## Analysis"
   ]
  },
  {
   "cell_type": "code",
   "execution_count": null,
   "id": "right-light",
   "metadata": {},
   "outputs": [],
   "source": []
  },
  {
   "cell_type": "code",
   "execution_count": null,
   "id": "removable-national",
   "metadata": {},
   "outputs": [],
   "source": []
  }
 ],
 "metadata": {
  "kernelspec": {
   "display_name": "Python 3",
   "language": "python",
   "name": "python3"
  },
  "language_info": {
   "codemirror_mode": {
    "name": "ipython",
    "version": 3
   },
   "file_extension": ".py",
   "mimetype": "text/x-python",
   "name": "python",
   "nbconvert_exporter": "python",
   "pygments_lexer": "ipython3",
   "version": "3.8.5"
  }
 },
 "nbformat": 4,
 "nbformat_minor": 5
}
